{
 "cells": [
  {
   "cell_type": "code",
   "execution_count": 49,
   "id": "55c6a385",
   "metadata": {},
   "outputs": [],
   "source": [
    "import tensorflow as tf\n",
    "from Tool import ETL\n",
    "from sklearn.metrics import r2_score,f1_score, confusion_matrix,plot_confusion_matrix,accuracy_score,recall_score,precision_score\n",
    "import plotly.express as px\n",
    "from IPython.display import HTML\n",
    "import pandas as pd\n",
    "import matplotlib.pyplot as plt\n",
    "import matplotlib as mpl\n",
    "mpl.rcParams['figure.dpi']=200"
   ]
  },
  {
   "cell_type": "code",
   "execution_count": 5,
   "id": "8dce8ef1",
   "metadata": {},
   "outputs": [],
   "source": [
    "etl = ETL()"
   ]
  },
  {
   "cell_type": "code",
   "execution_count": 6,
   "id": "1dc850cc",
   "metadata": {},
   "outputs": [],
   "source": [
    "X_train,y_train,X_valid,y_valid,y_train_label,y_valid_label,X_test,y_test,y_test_label = etl.BertTechGenerator('AAPL')"
   ]
  },
  {
   "cell_type": "markdown",
   "id": "3dc3d986",
   "metadata": {},
   "source": [
    "## Evalution of Price Movement Model"
   ]
  },
  {
   "cell_type": "code",
   "execution_count": 7,
   "id": "51456ff6",
   "metadata": {},
   "outputs": [],
   "source": [
    "move_model = tf.keras.models.load_model(\"MoveModel\")"
   ]
  },
  {
   "cell_type": "code",
   "execution_count": 53,
   "id": "95b51c22",
   "metadata": {},
   "outputs": [],
   "source": [
    "def classification_evalute(y_true,y_pred):\n",
    "    return [f1_score(y_true,y_pred),accuracy_score(y_true,y_pred),recall_score(y_true,y_pred),precision_score(y_true,y_pred)]"
   ]
  },
  {
   "cell_type": "markdown",
   "id": "271e90b2",
   "metadata": {},
   "source": [
    "## Model Preformance\n",
    "- The in-sample performance has a descent F1-score and prediction accuracy\n",
    "- The out-sample performance is lees promising, but the model still got a satifactory F1-score and good recall rate"
   ]
  },
  {
   "cell_type": "code",
   "execution_count": 59,
   "id": "9cd8b0e8",
   "metadata": {},
   "outputs": [
    {
     "name": "stdout",
     "output_type": "stream",
     "text": [
      "16/16 [==============================] - 1s 61ms/step\n",
      "5/5 [==============================] - 0s 61ms/step\n"
     ]
    },
    {
     "data": {
      "text/html": [
       "<div>\n",
       "<style scoped>\n",
       "    .dataframe tbody tr th:only-of-type {\n",
       "        vertical-align: middle;\n",
       "    }\n",
       "\n",
       "    .dataframe tbody tr th {\n",
       "        vertical-align: top;\n",
       "    }\n",
       "\n",
       "    .dataframe thead th {\n",
       "        text-align: right;\n",
       "    }\n",
       "</style>\n",
       "<table border=\"1\" class=\"dataframe\">\n",
       "  <thead>\n",
       "    <tr style=\"text-align: right;\">\n",
       "      <th></th>\n",
       "      <th>Training</th>\n",
       "      <th>Testing</th>\n",
       "    </tr>\n",
       "  </thead>\n",
       "  <tbody>\n",
       "    <tr>\n",
       "      <th>f1_score</th>\n",
       "      <td>0.922819</td>\n",
       "      <td>0.644809</td>\n",
       "    </tr>\n",
       "    <tr>\n",
       "      <th>accuracy</th>\n",
       "      <td>0.906504</td>\n",
       "      <td>0.545455</td>\n",
       "    </tr>\n",
       "    <tr>\n",
       "      <th>recall</th>\n",
       "      <td>0.941781</td>\n",
       "      <td>0.842857</td>\n",
       "    </tr>\n",
       "    <tr>\n",
       "      <th>precision</th>\n",
       "      <td>0.904605</td>\n",
       "      <td>0.522124</td>\n",
       "    </tr>\n",
       "  </tbody>\n",
       "</table>\n",
       "</div>"
      ],
      "text/plain": [
       "           Training   Testing\n",
       "f1_score   0.922819  0.644809\n",
       "accuracy   0.906504  0.545455\n",
       "recall     0.941781  0.842857\n",
       "precision  0.904605  0.522124"
      ]
     },
     "execution_count": 59,
     "metadata": {},
     "output_type": "execute_result"
    }
   ],
   "source": [
    "Metrics =pd.DataFrame()\n",
    "Metrics['Training']= classification_evalute(y_train_label,(move_model.predict(X_train)>0.5).astype(int))\n",
    "Metrics['Testing']= classification_evalute(y_test_label,(move_model.predict(X_test)>0.5).astype(int))\n",
    "Metrics.index = ['f1_score','accuracy','recall','precision']\n",
    "Metrics"
   ]
  },
  {
   "cell_type": "code",
   "execution_count": null,
   "id": "a9e965f4",
   "metadata": {},
   "outputs": [],
   "source": []
  }
 ],
 "metadata": {
  "kernelspec": {
   "display_name": "Python 3 (ipykernel)",
   "language": "python",
   "name": "python3"
  },
  "language_info": {
   "codemirror_mode": {
    "name": "ipython",
    "version": 3
   },
   "file_extension": ".py",
   "mimetype": "text/x-python",
   "name": "python",
   "nbconvert_exporter": "python",
   "pygments_lexer": "ipython3",
   "version": "3.9.13"
  }
 },
 "nbformat": 4,
 "nbformat_minor": 5
}
