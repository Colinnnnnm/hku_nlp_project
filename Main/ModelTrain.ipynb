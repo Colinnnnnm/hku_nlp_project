{
 "cells": [
  {
   "cell_type": "code",
   "execution_count": null,
   "id": "40e2ccae",
   "metadata": {},
   "outputs": [],
   "source": [
    "from Tool import ETL, BertPlusTechModel,BertPlusTechModel_Classify, reset_random_seeds"
   ]
  },
  {
   "cell_type": "code",
   "execution_count": null,
   "id": "b18c0bc0",
   "metadata": {},
   "outputs": [],
   "source": [
    "etl = ETL()"
   ]
  },
  {
   "cell_type": "code",
   "execution_count": 3,
   "id": "dc9aa8f9",
   "metadata": {},
   "outputs": [],
   "source": [
    "X_train,y_train,X_valid,y_valid,y_train_label,y_valid_label,X_test,y_test,y_test_label = etl.BertTechGenerator('AAPL')"
   ]
  },
  {
   "cell_type": "code",
   "execution_count": 22,
   "id": "22bf2d2d",
   "metadata": {},
   "outputs": [],
   "source": [
    "price_model = BertPlusTechModel()"
   ]
  },
  {
   "cell_type": "code",
   "execution_count": 23,
   "id": "4076ebc5",
   "metadata": {},
   "outputs": [
    {
     "data": {
      "text/plain": [
       "<keras.callbacks.History at 0x15a156eb0>"
      ]
     },
     "execution_count": 23,
     "metadata": {},
     "output_type": "execute_result"
    }
   ],
   "source": [
    "price_model.train(X_train= X_train,y_train=y_train,validation_data=[X_valid,y_valid],verbose=0,batch_size=32)"
   ]
  },
  {
   "cell_type": "code",
   "execution_count": 11,
   "id": "333a3ae8",
   "metadata": {},
   "outputs": [
    {
     "name": "stderr",
     "output_type": "stream",
     "text": [
      "WARNING:absl:Function `_wrapped_model` contains input name(s) Tweet, Price with unsupported characters which will be renamed to tweet, price in the SavedModel.\n",
      "WARNING:absl:Found untraced functions such as restored_function_body, restored_function_body, restored_function_body, restored_function_body, restored_function_body while saving (showing 5 of 64). These functions will not be directly callable after loading.\n"
     ]
    },
    {
     "name": "stdout",
     "output_type": "stream",
     "text": [
      "INFO:tensorflow:Assets written to: PriceModel/assets\n"
     ]
    },
    {
     "name": "stderr",
     "output_type": "stream",
     "text": [
      "INFO:tensorflow:Assets written to: PriceModel/assets\n"
     ]
    }
   ],
   "source": [
    "price_model.save(\"PriceModel\")"
   ]
  },
  {
   "cell_type": "code",
   "execution_count": 10,
   "id": "05292659",
   "metadata": {},
   "outputs": [],
   "source": [
    "class_model = BertPlusTechModel_Classify()"
   ]
  },
  {
   "cell_type": "code",
   "execution_count": 11,
   "id": "fa0fd4a3",
   "metadata": {},
   "outputs": [
    {
     "name": "stdout",
     "output_type": "stream",
     "text": [
      "Epoch 1/10\n",
      "16/16 [==============================] - 4s 162ms/step - loss: 0.6382 - val_loss: 0.5351\n",
      "Epoch 2/10\n",
      "16/16 [==============================] - 2s 149ms/step - loss: 0.6051 - val_loss: 0.5121\n",
      "Epoch 3/10\n",
      "16/16 [==============================] - 2s 155ms/step - loss: 0.5532 - val_loss: 0.5442\n",
      "Epoch 4/10\n",
      "16/16 [==============================] - 2s 154ms/step - loss: 0.5569 - val_loss: 0.5591\n",
      "Epoch 5/10\n",
      "16/16 [==============================] - 2s 154ms/step - loss: 0.5673 - val_loss: 0.5269\n",
      "Epoch 6/10\n",
      "16/16 [==============================] - 3s 157ms/step - loss: 0.5741 - val_loss: 0.5545\n",
      "Epoch 7/10\n",
      "16/16 [==============================] - 3s 158ms/step - loss: 0.5906 - val_loss: 0.5103\n",
      "Epoch 8/10\n",
      "16/16 [==============================] - 3s 162ms/step - loss: 0.5799 - val_loss: 0.5440\n",
      "Epoch 9/10\n",
      "16/16 [==============================] - 3s 160ms/step - loss: 0.5545 - val_loss: 0.6383\n",
      "Epoch 10/10\n",
      "16/16 [==============================] - 3s 161ms/step - loss: 0.5389 - val_loss: 0.8030\n",
      "Epoch 1/100\n",
      "16/16 [==============================] - 2s 156ms/step - loss: 0.5138 - val_loss: 1.2903\n",
      "Epoch 2/100\n",
      "16/16 [==============================] - 2s 154ms/step - loss: 0.4883 - val_loss: 0.7187\n",
      "Epoch 3/100\n",
      "16/16 [==============================] - 3s 158ms/step - loss: 0.4735 - val_loss: 0.4984\n",
      "Epoch 4/100\n",
      "16/16 [==============================] - 2s 156ms/step - loss: 0.4320 - val_loss: 0.9454\n",
      "Epoch 5/100\n",
      "16/16 [==============================] - 3s 158ms/step - loss: 0.4142 - val_loss: 0.7757\n",
      "Epoch 6/100\n",
      "16/16 [==============================] - 2s 156ms/step - loss: 0.4139 - val_loss: 0.9185\n",
      "Epoch 7/100\n",
      "16/16 [==============================] - 2s 153ms/step - loss: 0.3836 - val_loss: 0.7646\n",
      "Epoch 8/100\n",
      "16/16 [==============================] - 3s 159ms/step - loss: 0.3628 - val_loss: 0.8310\n"
     ]
    },
    {
     "data": {
      "text/plain": [
       "<keras.callbacks.History at 0x15828d8e0>"
      ]
     },
     "execution_count": 11,
     "metadata": {},
     "output_type": "execute_result"
    }
   ],
   "source": [
    "class_model.train(X_train= X_train,y_train=y_train_label,validation_data=[X_valid,y_valid_label],verbose=1,batch_size=32)"
   ]
  },
  {
   "cell_type": "code",
   "execution_count": 17,
   "id": "028145bf",
   "metadata": {},
   "outputs": [
    {
     "name": "stderr",
     "output_type": "stream",
     "text": [
      "WARNING:absl:Function `_wrapped_model` contains input name(s) Tweet, Price with unsupported characters which will be renamed to tweet, price in the SavedModel.\n",
      "WARNING:absl:Found untraced functions such as restored_function_body, restored_function_body, restored_function_body, restored_function_body, restored_function_body while saving (showing 5 of 64). These functions will not be directly callable after loading.\n"
     ]
    },
    {
     "name": "stdout",
     "output_type": "stream",
     "text": [
      "INFO:tensorflow:Assets written to: MoveModel/assets\n"
     ]
    },
    {
     "name": "stderr",
     "output_type": "stream",
     "text": [
      "INFO:tensorflow:Assets written to: MoveModel/assets\n"
     ]
    }
   ],
   "source": [
    "class_model.save('MoveModel')"
   ]
  },
  {
   "cell_type": "code",
   "execution_count": null,
   "id": "f2c3e866",
   "metadata": {},
   "outputs": [],
   "source": []
  }
 ],
 "metadata": {
  "kernelspec": {
   "display_name": "Python 3 (ipykernel)",
   "language": "python",
   "name": "python3"
  },
  "language_info": {
   "codemirror_mode": {
    "name": "ipython",
    "version": 3
   },
   "file_extension": ".py",
   "mimetype": "text/x-python",
   "name": "python",
   "nbconvert_exporter": "python",
   "pygments_lexer": "ipython3",
   "version": "3.9.13"
  }
 },
 "nbformat": 4,
 "nbformat_minor": 5
}
